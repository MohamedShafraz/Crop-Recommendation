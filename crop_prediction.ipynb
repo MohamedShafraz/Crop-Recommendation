{
 "cells": [
  {
   "cell_type": "code",
   "execution_count": 10,
   "metadata": {},
   "outputs": [],
   "source": [
    "from sklearn.preprocessing import StandardScaler\n",
    "import pandas as pd\n",
    "from sklearn.model_selection import train_test_split\n",
    "from sklearn.ensemble import RandomForestClassifier\n",
    "from sklearn.metrics import accuracy_score, classification_report\n"
   ]
  },
  {
   "cell_type": "code",
   "execution_count": 4,
   "metadata": {},
   "outputs": [],
   "source": [
    "# Load the dataset\n",
    "file_path = '/Users/sivagar/Downloads/Crop_Dataset.csv'\n",
    "data = pd.read_csv(file_path)\n"
   ]
  },
  {
   "cell_type": "code",
   "execution_count": 6,
   "metadata": {},
   "outputs": [
    {
     "name": "stdout",
     "output_type": "stream",
     "text": [
      "<class 'pandas.core.frame.DataFrame'>\n",
      "RangeIndex: 2200 entries, 0 to 2199\n",
      "Data columns (total 12 columns):\n",
      " #   Column                Non-Null Count  Dtype  \n",
      "---  ------                --------------  -----  \n",
      " 0   N                     2200 non-null   int64  \n",
      " 1   P                     2200 non-null   int64  \n",
      " 2   K                     2200 non-null   int64  \n",
      " 3   temperature           2200 non-null   float64\n",
      " 4   humidity              2200 non-null   float64\n",
      " 5   ph                    2200 non-null   float64\n",
      " 6   rainfall              2200 non-null   float64\n",
      " 7   Total_Nutrients       2200 non-null   int64  \n",
      " 8   Temperature_Humidity  2200 non-null   float64\n",
      " 9   Log_Rainfall          2200 non-null   float64\n",
      " 10  Label                 2200 non-null   object \n",
      " 11  Label_Encoded         2200 non-null   int64  \n",
      "dtypes: float64(6), int64(5), object(1)\n",
      "memory usage: 206.4+ KB\n"
     ]
    },
    {
     "data": {
      "text/plain": [
       "(None,\n",
       "     N   P   K  temperature   humidity        ph    rainfall  Total_Nutrients  \\\n",
       " 0  90  42  43    20.879744  82.002744  6.502985  202.935536              175   \n",
       " 1  85  58  41    21.770462  80.319644  7.038096  226.655537              184   \n",
       " 2  60  55  44    23.004459  82.320763  7.840207  263.964248              159   \n",
       " 3  74  35  40    26.491096  80.158363  6.980401  242.864034              149   \n",
       " 4  78  42  42    20.130175  81.604873  7.628473  262.717340              162   \n",
       " \n",
       "    Temperature_Humidity  Log_Rainfall  Label  Label_Encoded  \n",
       " 0           1712.196283      5.317804  wheat              0  \n",
       " 1           1748.595734      5.427834  wheat              0  \n",
       " 2           1893.744627      5.579595  wheat              0  \n",
       " 3           2123.482908      5.496611  wheat              0  \n",
       " 4           1642.720357      5.574878  wheat              0  )"
      ]
     },
     "execution_count": 6,
     "metadata": {},
     "output_type": "execute_result"
    }
   ],
   "source": [
    "# Display basic information about the dataset and the first few rows to understand its structure\n",
    "data.info(), data.head()"
   ]
  },
  {
   "cell_type": "code",
   "execution_count": 8,
   "metadata": {},
   "outputs": [],
   "source": [
    "# Check for any missing values\n",
    "missing_data = data.isnull().sum()"
   ]
  },
  {
   "cell_type": "code",
   "execution_count": 9,
   "metadata": {},
   "outputs": [
    {
     "data": {
      "text/plain": [
       "(N                       0\n",
       " P                       0\n",
       " K                       0\n",
       " temperature             0\n",
       " humidity                0\n",
       " ph                      0\n",
       " rainfall                0\n",
       " Total_Nutrients         0\n",
       " Temperature_Humidity    0\n",
       " Log_Rainfall            0\n",
       " Label                   0\n",
       " Label_Encoded           0\n",
       " dtype: int64,\n",
       "           N         P         K  temperature  humidity        ph  rainfall  \\\n",
       " 0  1.068797 -0.344551 -0.101688    -0.935587  0.472666  0.043302  1.810361   \n",
       " 1  0.933329  0.140616 -0.141185    -0.759646  0.397051  0.734873  2.242058   \n",
       " 2  0.255986  0.049647 -0.081939    -0.515898  0.486954  1.771510  2.921066   \n",
       " 3  0.635298 -0.556811 -0.160933     0.172807  0.389805  0.660308  2.537048   \n",
       " 4  0.743673 -0.344551 -0.121436    -1.083647  0.454792  1.497868  2.898373   \n",
       " \n",
       "    Total_Nutrients  Temperature_Humidity  Log_Rainfall  Label  Label_Encoded  \n",
       " 0         0.287062             -0.203138      1.483789  wheat              0  \n",
       " 1         0.399702             -0.151079      1.685576  wheat              0  \n",
       " 2         0.086813              0.056511      1.963897  wheat              0  \n",
       " 3        -0.038343              0.385081      1.811709  wheat              0  \n",
       " 4         0.124359             -0.302501      1.955246  wheat              0  )"
      ]
     },
     "execution_count": 9,
     "metadata": {},
     "output_type": "execute_result"
    }
   ],
   "source": [
    "# Scale the numeric features (excluding encoded labels)\n",
    "features_to_scale = ['N', 'P', 'K', 'temperature', 'humidity', 'ph', 'rainfall',\n",
    "                     'Total_Nutrients', 'Temperature_Humidity', 'Log_Rainfall']\n",
    "scaler = StandardScaler()\n",
    "data_scaled = data.copy()\n",
    "data_scaled[features_to_scale] = scaler.fit_transform(data[features_to_scale])\n",
    "\n",
    "missing_data, data_scaled.head()\n"
   ]
  },
  {
   "cell_type": "code",
   "execution_count": 12,
   "metadata": {},
   "outputs": [
    {
     "data": {
      "text/plain": [
       "0.990909090909091"
      ]
     },
     "execution_count": 12,
     "metadata": {},
     "output_type": "execute_result"
    }
   ],
   "source": [
    "# Splitting the dataset into training and testing sets\n",
    "X = data_scaled[features_to_scale]\n",
    "y = data_scaled['Label_Encoded']\n",
    "X_train, X_test, y_train, y_test = train_test_split(X, y, test_size=0.2, random_state=42)\n",
    "\n",
    "# Training the Random Forest classifier\n",
    "rf_classifier = RandomForestClassifier(n_estimators=100, random_state=42)\n",
    "rf_classifier.fit(X_train, y_train)\n",
    "\n",
    "# Predicting the test set results\n",
    "y_pred = rf_classifier.predict(X_test)\n",
    "\n",
    "# Evaluating the model\n",
    "accuracy = accuracy_score(y_test, y_pred)\n",
    "classification_rep = classification_report(y_test, y_pred)\n",
    "\n",
    "accuracy\n"
   ]
  },
  {
   "cell_type": "code",
   "execution_count": 13,
   "metadata": {},
   "outputs": [
    {
     "data": {
      "text/plain": [
       "'              precision    recall  f1-score   support\\n\\n           0       0.94      0.89      0.92        19\\n           1       1.00      1.00      1.00        21\\n           2       1.00      1.00      1.00        26\\n           3       1.00      1.00      1.00        20\\n           4       1.00      1.00      1.00        23\\n           5       1.00      0.96      0.98        24\\n           6       1.00      1.00      1.00        19\\n           7       1.00      1.00      1.00        20\\n           8       0.92      1.00      0.96        11\\n           9       1.00      1.00      1.00        23\\n          10       1.00      1.00      1.00        21\\n          11       1.00      1.00      1.00        19\\n          12       1.00      1.00      1.00        14\\n          13       1.00      1.00      1.00        19\\n          14       1.00      1.00      1.00        17\\n          15       1.00      1.00      1.00        23\\n          16       1.00      1.00      1.00        14\\n          17       1.00      1.00      1.00        23\\n          18       1.00      1.00      1.00        27\\n          19       1.00      1.00      1.00        17\\n          20       0.92      0.96      0.94        23\\n          21       1.00      1.00      1.00        17\\n\\n    accuracy                           0.99       440\\n   macro avg       0.99      0.99      0.99       440\\nweighted avg       0.99      0.99      0.99       440\\n'"
      ]
     },
     "execution_count": 13,
     "metadata": {},
     "output_type": "execute_result"
    }
   ],
   "source": [
    "classification_rep"
   ]
  },
  {
   "cell_type": "code",
   "execution_count": 14,
   "metadata": {},
   "outputs": [
    {
     "data": {
      "text/plain": [
       "('/Users/sivagar/Desktop/ucsc/task1/random_forest_classifier.joblib',\n",
       " ['raspberries', 'plums', 'strawberries', 'strawberries', 'pears'])"
      ]
     },
     "execution_count": 14,
     "metadata": {},
     "output_type": "execute_result"
    }
   ],
   "source": [
    "import joblib\n",
    "\n",
    "# Save the model to a .joblib file\n",
    "model_filename ='/Users/sivagar/Desktop/ucsc/task1/random_forest_classifier.joblib'\n",
    "joblib.dump(rf_classifier, model_filename)\n",
    "\n",
    "# Load the model to confirm it's saved correctly\n",
    "loaded_model = joblib.load(model_filename)\n",
    "\n",
    "# Just for demonstration, let's predict using the first few entries of the test set\n",
    "sample_data = X_test.head()\n",
    "predicted_labels = loaded_model.predict(sample_data)\n",
    "predicted_label_names = [data_scaled['Label'].unique()[label] for label in predicted_labels]\n",
    "\n",
    "model_filename, predicted_label_names\n"
   ]
  }
 ],
 "metadata": {
  "kernelspec": {
   "display_name": "base",
   "language": "python",
   "name": "python3"
  },
  "language_info": {
   "codemirror_mode": {
    "name": "ipython",
    "version": 3
   },
   "file_extension": ".py",
   "mimetype": "text/x-python",
   "name": "python",
   "nbconvert_exporter": "python",
   "pygments_lexer": "ipython3",
   "version": "3.10.12"
  }
 },
 "nbformat": 4,
 "nbformat_minor": 2
}
